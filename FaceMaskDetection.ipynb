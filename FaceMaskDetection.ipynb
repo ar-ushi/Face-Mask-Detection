{
  "nbformat": 4,
  "nbformat_minor": 0,
  "metadata": {
    "colab": {
      "name": "FaceMaskDetection.ipynb",
      "provenance": [],
      "collapsed_sections": [],
      "authorship_tag": "ABX9TyMT7/W0CDlqLA7UiYqgWZla",
      "include_colab_link": true
    },
    "kernelspec": {
      "name": "python3",
      "display_name": "Python 3"
    },
    "accelerator": "GPU"
  },
  "cells": [
    {
      "cell_type": "markdown",
      "metadata": {
        "id": "view-in-github",
        "colab_type": "text"
      },
      "source": [
        "<a href=\"https://colab.research.google.com/github/ar-ushi/Face-Mask-Detection/blob/master/FaceMaskDetection.ipynb\" target=\"_parent\"><img src=\"https://colab.research.google.com/assets/colab-badge.svg\" alt=\"Open In Colab\"/></a>"
      ]
    },
    {
      "cell_type": "code",
      "metadata": {
        "id": "Yp1ehtZSqx6Q",
        "colab_type": "code",
        "colab": {
          "base_uri": "https://localhost:8080/",
          "height": 222
        },
        "outputId": "b2e15d3d-ddc3-4f9f-d0f1-0ad18ef7545d"
      },
      "source": [
        "!apt-get install -y -qq software-properties-common python-software-properties module-init-tools\n",
        "!add-apt-repository -y ppa:alessandro-strada/ppa 2>&1 > /dev/null\n",
        "!apt-get update -qq 2>&1 > /dev/null\n",
        "!apt-get -y install -qq google-drive-ocamlfuse fuse\n",
        "from google.colab import auth\n",
        "auth.authenticate_user()\n",
        "from oauth2client.client import GoogleCredentials \n",
        "creds = GoogleCredentials.get_application_default()\n",
        "import getpass\n",
        "!google-drive-ocamlfuse -headless -id={creds.client_id} -secret={creds.client_secret} < /dev/null 2>&1 | grep URL\n",
        "vcode = getpass.getpass()\n",
        "!echo {vcode} | google-drive-ocamlfuse -headless -id={creds.client_id}  -secret={creds.client_secret}"
      ],
      "execution_count": null,
      "outputs": [
        {
          "output_type": "stream",
          "text": [
            "E: Package 'python-software-properties' has no installation candidate\n",
            "Selecting previously unselected package google-drive-ocamlfuse.\n",
            "(Reading database ... 144487 files and directories currently installed.)\n",
            "Preparing to unpack .../google-drive-ocamlfuse_0.7.22-0ubuntu3~ubuntu18.04.1_amd64.deb ...\n",
            "Unpacking google-drive-ocamlfuse (0.7.22-0ubuntu3~ubuntu18.04.1) ...\n",
            "Setting up google-drive-ocamlfuse (0.7.22-0ubuntu3~ubuntu18.04.1) ...\n",
            "Processing triggers for man-db (2.8.3-2ubuntu0.1) ...\n",
            "Please, open the following URL in a web browser: https://accounts.google.com/o/oauth2/auth?client_id=32555940559.apps.googleusercontent.com&redirect_uri=urn%3Aietf%3Awg%3Aoauth%3A2.0%3Aoob&scope=https%3A%2F%2Fwww.googleapis.com%2Fauth%2Fdrive&response_type=code&access_type=offline&approval_prompt=force\n",
            "··········\n",
            "Please, open the following URL in a web browser: https://accounts.google.com/o/oauth2/auth?client_id=32555940559.apps.googleusercontent.com&redirect_uri=urn%3Aietf%3Awg%3Aoauth%3A2.0%3Aoob&scope=https%3A%2F%2Fwww.googleapis.com%2Fauth%2Fdrive&response_type=code&access_type=offline&approval_prompt=force\n",
            "Please enter the verification code: Access token retrieved correctly.\n"
          ],
          "name": "stdout"
        }
      ]
    },
    {
      "cell_type": "code",
      "metadata": {
        "id": "T1AIJ-dwot2r",
        "colab_type": "code",
        "colab": {
          "base_uri": "https://localhost:8080/",
          "height": 34
        },
        "outputId": "5329d211-7277-4f09-8c05-b58a26670d51"
      },
      "source": [
        "#Mounting google drive\n",
        "from google.colab import drive\n",
        "drive.mount('/content/drive')"
      ],
      "execution_count": null,
      "outputs": [
        {
          "output_type": "stream",
          "text": [
            "Drive already mounted at /content/drive; to attempt to forcibly remount, call drive.mount(\"/content/drive\", force_remount=True).\n"
          ],
          "name": "stdout"
        }
      ]
    },
    {
      "cell_type": "markdown",
      "metadata": {
        "id": "h7qGRAkPv5Do",
        "colab_type": "text"
      },
      "source": [
        "**Data Pre-Processing**\n"
      ]
    },
    {
      "cell_type": "code",
      "metadata": {
        "id": "hKKEpYjav9E1",
        "colab_type": "code",
        "colab": {
          "base_uri": "https://localhost:8080/",
          "height": 34
        },
        "outputId": "357272c7-ee2b-43cc-fc0b-a7acc4495178"
      },
      "source": [
        "import os\n",
        "\n",
        "#setting directory path for dataset\n",
        "os.chdir(\"/content/drive/My Drive/Face-Mask-Detection\")\n",
        "Dataset = \"data\"\n",
        "Data_dir = os.listdir(Dataset)\n",
        "print(Data_dir)"
      ],
      "execution_count": null,
      "outputs": [
        {
          "output_type": "stream",
          "text": [
            "['without_mask', 'with_mask']\n"
          ],
          "name": "stdout"
        }
      ]
    },
    {
      "cell_type": "code",
      "metadata": {
        "id": "BO5GOeL0wrl7",
        "colab_type": "code",
        "colab": {}
      },
      "source": [
        "import cv2\n",
        "import numpy as np\n",
        "from tensorflow.keras.utils import to_categorical\n",
        "from sklearn.preprocessing import LabelBinarizer\n",
        "from sklearn.model_selection import train_test_split\n",
        "\n",
        "img_rows,img_cols = 112,112\n",
        "\n",
        "images = []\n",
        "labels = [] \n",
        "\n",
        "for category in Data_dir:\n",
        "  folder_path = os.path.join(Dataset,category)\n",
        "  for img in os.listdir(folder_path):\n",
        "    img_path = os.path.join(folder_path,img)\n",
        "    img = cv2.imread(img_path)\n",
        "\n",
        "    try:\n",
        "      #converting image into gray scale\n",
        "      grayscale_img = cv2.cvtColor(img,cv2.COLOR_BGR2GRAY)\n",
        "\n",
        "      #resizing gray scaled image into size 56x56\n",
        "      resized_img =  cv2.resize(grayscale_img,(img_rows,img_cols))\n",
        "      images.append(resized_img)\n",
        "      labels.append(category)\n",
        "    #Exception Handling\n",
        "    except Exception as e:\n",
        "      print(\"Exception Details : \" + e)\n",
        "images = np.array(images) /255.0\n",
        "images = np.reshape(images,(images.shape[0],img_rows,img_cols,1))\n",
        "\n",
        "#performing one hot encoding\n",
        "lb = LabelBinarizer() \n",
        "labels = lb.fit_transform(labels)\n",
        "labels = to_categorical(labels)\n",
        "labels = np.array(labels)\n",
        "\n",
        "(train_X,test_X,train_y,test_y) = train_test_split(images,labels,test_size = 0.25,random_state= 0)\n",
        "\n",
        "\n"
      ],
      "execution_count": null,
      "outputs": []
    },
    {
      "cell_type": "markdown",
      "metadata": {
        "id": "A2JiM5axdNZW",
        "colab_type": "text"
      },
      "source": [
        "**Building CNN Classification Model**\n"
      ]
    },
    {
      "cell_type": "code",
      "metadata": {
        "id": "ATp-pLDodaSz",
        "colab_type": "code",
        "colab": {
          "base_uri": "https://localhost:8080/",
          "height": 504
        },
        "outputId": "a113b7f2-71bb-4a13-d7b5-13fd392002b5"
      },
      "source": [
        "from keras.models import Sequential\n",
        "from keras.layers import Dense,Activation,Flatten,Dropout\n",
        "from keras.layers import Conv2D,MaxPooling2D\n",
        "\n",
        "num_classes = 2\n",
        "batch_size = 32\n",
        "\n",
        "#Building CNN model via Sequential API\n",
        "\n",
        "model = Sequential()\n",
        "\n",
        "#First Layer\n",
        "model.add(Conv2D(64,(3,3), input_shape = (img_rows,img_cols,1)))\n",
        "model.add(Activation('relu'))\n",
        "model.add(MaxPooling2D(pool_size = (2,2)))\n",
        "\n",
        "#Second Layer\n",
        "model.add(Conv2D(128,(3,3)))\n",
        "model.add(Activation('relu'))\n",
        "model.add(MaxPooling2D(pool_size = (2,2)))\n",
        "\n",
        "#Flatten and Dropout Layer\n",
        "model.add(Flatten())\n",
        "model.add(Dropout(0.5))\n",
        "\n",
        "#Softmax Classifier\n",
        "model.add(Dense(64,activation = \"relu\"))\n",
        "model.add(Dense(num_classes,activation= \"softmax\"))\n",
        "\n",
        "print(model.summary())\n"
      ],
      "execution_count": null,
      "outputs": [
        {
          "output_type": "stream",
          "text": [
            "Model: \"sequential\"\n",
            "_________________________________________________________________\n",
            "Layer (type)                 Output Shape              Param #   \n",
            "=================================================================\n",
            "conv2d (Conv2D)              (None, 110, 110, 64)      640       \n",
            "_________________________________________________________________\n",
            "activation (Activation)      (None, 110, 110, 64)      0         \n",
            "_________________________________________________________________\n",
            "max_pooling2d (MaxPooling2D) (None, 55, 55, 64)        0         \n",
            "_________________________________________________________________\n",
            "conv2d_1 (Conv2D)            (None, 53, 53, 128)       73856     \n",
            "_________________________________________________________________\n",
            "activation_1 (Activation)    (None, 53, 53, 128)       0         \n",
            "_________________________________________________________________\n",
            "max_pooling2d_1 (MaxPooling2 (None, 26, 26, 128)       0         \n",
            "_________________________________________________________________\n",
            "flatten (Flatten)            (None, 86528)             0         \n",
            "_________________________________________________________________\n",
            "dropout (Dropout)            (None, 86528)             0         \n",
            "_________________________________________________________________\n",
            "dense (Dense)                (None, 64)                5537856   \n",
            "_________________________________________________________________\n",
            "dense_1 (Dense)              (None, 2)                 130       \n",
            "=================================================================\n",
            "Total params: 5,612,482\n",
            "Trainable params: 5,612,482\n",
            "Non-trainable params: 0\n",
            "_________________________________________________________________\n",
            "None\n"
          ],
          "name": "stdout"
        }
      ]
    },
    {
      "cell_type": "markdown",
      "metadata": {
        "id": "E7ob3xh3fTJE",
        "colab_type": "text"
      },
      "source": [
        "**Plotting the Model for Deeper Insights**\n",
        "\n"
      ]
    },
    {
      "cell_type": "code",
      "metadata": {
        "id": "Bn68q5IhfXfg",
        "colab_type": "code",
        "colab": {
          "base_uri": "https://localhost:8080/",
          "height": 1000
        },
        "outputId": "3b9ba876-88ff-477a-d45d-28055b8bad5e"
      },
      "source": [
        "from keras.utils.vis_utils import plot_model\n",
        "plot_model(model,to_file=\"face_mask_detection_model.png\")"
      ],
      "execution_count": null,
      "outputs": [
        {
          "output_type": "execute_result",
          "data": {
            "image/png": "[encoded data removed]",
            "text/plain": [
              "<IPython.core.display.Image object>"
            ]
          },
          "metadata": {
            "tags": []
          },
          "execution_count": 10
        }
      ]
    },
    {
      "cell_type": "markdown",
      "metadata": {
        "id": "WWHlMn9Jfjiv",
        "colab_type": "text"
      },
      "source": [
        "**Train the Model**"
      ]
    },
    {
      "cell_type": "code",
      "metadata": {
        "id": "6nsmmVdcfl4L",
        "colab_type": "code",
        "colab": {
          "base_uri": "https://localhost:8080/",
          "height": 1000
        },
        "outputId": "ccaebd2a-2d36-44c5-eb1d-e833b1b8db95"
      },
      "source": [
        "from keras.optimizers import Adam \n",
        "epochs = 50\n",
        "\n",
        "model.compile(loss= 'categorical_crossentropy',optimizer= Adam(lr=0.001),metrics=['accuracy'])\n",
        "fitted_model = model.fit(train_X,train_y,epochs = epochs,validation_split=0.25)"
      ],
      "execution_count": null,
      "outputs": [
        {
          "output_type": "stream",
          "text": [
            "Epoch 1/50\n",
            "25/25 [==============================] - 1s 32ms/step - loss: 0.7272 - accuracy: 0.5517 - val_loss: 0.6446 - val_accuracy: 0.6085\n",
            "Epoch 2/50\n",
            "25/25 [==============================] - 1s 24ms/step - loss: 0.5256 - accuracy: 0.7261 - val_loss: 0.4933 - val_accuracy: 0.7946\n",
            "Epoch 3/50\n",
            "25/25 [==============================] - 1s 24ms/step - loss: 0.3453 - accuracy: 0.8501 - val_loss: 0.3528 - val_accuracy: 0.8605\n",
            "Epoch 4/50\n",
            "25/25 [==============================] - 1s 24ms/step - loss: 0.2230 - accuracy: 0.9134 - val_loss: 0.5720 - val_accuracy: 0.7984\n",
            "Epoch 5/50\n",
            "25/25 [==============================] - 1s 24ms/step - loss: 0.1948 - accuracy: 0.9251 - val_loss: 0.5301 - val_accuracy: 0.7829\n",
            "Epoch 6/50\n",
            "25/25 [==============================] - 1s 24ms/step - loss: 0.1632 - accuracy: 0.9457 - val_loss: 0.2789 - val_accuracy: 0.9070\n",
            "Epoch 7/50\n",
            "25/25 [==============================] - 1s 24ms/step - loss: 0.1148 - accuracy: 0.9574 - val_loss: 0.3641 - val_accuracy: 0.8450\n",
            "Epoch 8/50\n",
            "25/25 [==============================] - 1s 24ms/step - loss: 0.0845 - accuracy: 0.9729 - val_loss: 0.3478 - val_accuracy: 0.8798\n",
            "Epoch 9/50\n",
            "25/25 [==============================] - 1s 24ms/step - loss: 0.0537 - accuracy: 0.9819 - val_loss: 0.2684 - val_accuracy: 0.9225\n",
            "Epoch 10/50\n",
            "25/25 [==============================] - 1s 24ms/step - loss: 0.0609 - accuracy: 0.9793 - val_loss: 0.2967 - val_accuracy: 0.9186\n",
            "Epoch 11/50\n",
            "25/25 [==============================] - 1s 24ms/step - loss: 0.0393 - accuracy: 0.9819 - val_loss: 0.3436 - val_accuracy: 0.9070\n",
            "Epoch 12/50\n",
            "25/25 [==============================] - 1s 24ms/step - loss: 0.0326 - accuracy: 0.9884 - val_loss: 0.3543 - val_accuracy: 0.9070\n",
            "Epoch 13/50\n",
            "25/25 [==============================] - 1s 24ms/step - loss: 0.0249 - accuracy: 0.9935 - val_loss: 0.3321 - val_accuracy: 0.9186\n",
            "Epoch 14/50\n",
            "25/25 [==============================] - 1s 24ms/step - loss: 0.0190 - accuracy: 0.9961 - val_loss: 0.3176 - val_accuracy: 0.9186\n",
            "Epoch 15/50\n",
            "25/25 [==============================] - 1s 24ms/step - loss: 0.0312 - accuracy: 0.9884 - val_loss: 0.3588 - val_accuracy: 0.9186\n",
            "Epoch 16/50\n",
            "25/25 [==============================] - 1s 25ms/step - loss: 0.0210 - accuracy: 0.9961 - val_loss: 0.3593 - val_accuracy: 0.9225\n",
            "Epoch 17/50\n",
            "25/25 [==============================] - 1s 24ms/step - loss: 0.0105 - accuracy: 0.9987 - val_loss: 0.3414 - val_accuracy: 0.9264\n",
            "Epoch 18/50\n",
            "25/25 [==============================] - 1s 24ms/step - loss: 0.0054 - accuracy: 1.0000 - val_loss: 0.3601 - val_accuracy: 0.9225\n",
            "Epoch 19/50\n",
            "25/25 [==============================] - 1s 24ms/step - loss: 0.0245 - accuracy: 0.9935 - val_loss: 0.4552 - val_accuracy: 0.8915\n",
            "Epoch 20/50\n",
            "25/25 [==============================] - 1s 24ms/step - loss: 0.0075 - accuracy: 0.9987 - val_loss: 0.3673 - val_accuracy: 0.9186\n",
            "Epoch 21/50\n",
            "25/25 [==============================] - 1s 24ms/step - loss: 0.0073 - accuracy: 0.9974 - val_loss: 0.3469 - val_accuracy: 0.9380\n",
            "Epoch 22/50\n",
            "25/25 [==============================] - 1s 24ms/step - loss: 0.0125 - accuracy: 0.9974 - val_loss: 0.3909 - val_accuracy: 0.9109\n",
            "Epoch 23/50\n",
            "25/25 [==============================] - 1s 24ms/step - loss: 0.0205 - accuracy: 0.9922 - val_loss: 0.4139 - val_accuracy: 0.9070\n",
            "Epoch 24/50\n",
            "25/25 [==============================] - 1s 24ms/step - loss: 0.0380 - accuracy: 0.9884 - val_loss: 0.3149 - val_accuracy: 0.9225\n",
            "Epoch 25/50\n",
            "25/25 [==============================] - 1s 24ms/step - loss: 0.0140 - accuracy: 0.9948 - val_loss: 0.3474 - val_accuracy: 0.9341\n",
            "Epoch 26/50\n",
            "25/25 [==============================] - 1s 24ms/step - loss: 0.0054 - accuracy: 1.0000 - val_loss: 0.3471 - val_accuracy: 0.9302\n",
            "Epoch 27/50\n",
            "25/25 [==============================] - 1s 24ms/step - loss: 0.0019 - accuracy: 1.0000 - val_loss: 0.3794 - val_accuracy: 0.9225\n",
            "Epoch 28/50\n",
            "25/25 [==============================] - 1s 24ms/step - loss: 0.0013 - accuracy: 1.0000 - val_loss: 0.3798 - val_accuracy: 0.9264\n",
            "Epoch 29/50\n",
            "25/25 [==============================] - 1s 24ms/step - loss: 0.0058 - accuracy: 0.9987 - val_loss: 0.3706 - val_accuracy: 0.9225\n",
            "Epoch 30/50\n",
            "25/25 [==============================] - 1s 25ms/step - loss: 0.0106 - accuracy: 0.9974 - val_loss: 0.3646 - val_accuracy: 0.9302\n",
            "Epoch 31/50\n",
            "25/25 [==============================] - 1s 24ms/step - loss: 0.0051 - accuracy: 0.9974 - val_loss: 0.3600 - val_accuracy: 0.9264\n",
            "Epoch 32/50\n",
            "25/25 [==============================] - 1s 24ms/step - loss: 0.0018 - accuracy: 1.0000 - val_loss: 0.4029 - val_accuracy: 0.9264\n",
            "Epoch 33/50\n",
            "25/25 [==============================] - 1s 24ms/step - loss: 7.8240e-04 - accuracy: 1.0000 - val_loss: 0.4332 - val_accuracy: 0.9225\n",
            "Epoch 34/50\n",
            "25/25 [==============================] - 1s 24ms/step - loss: 0.0011 - accuracy: 1.0000 - val_loss: 0.4200 - val_accuracy: 0.9341\n",
            "Epoch 35/50\n",
            "25/25 [==============================] - 1s 24ms/step - loss: 9.3754e-04 - accuracy: 1.0000 - val_loss: 0.4290 - val_accuracy: 0.9302\n",
            "Epoch 36/50\n",
            "25/25 [==============================] - 1s 24ms/step - loss: 0.0017 - accuracy: 1.0000 - val_loss: 0.4590 - val_accuracy: 0.9225\n",
            "Epoch 37/50\n",
            "25/25 [==============================] - 1s 24ms/step - loss: 8.0408e-04 - accuracy: 1.0000 - val_loss: 0.4215 - val_accuracy: 0.9302\n",
            "Epoch 38/50\n",
            "25/25 [==============================] - 1s 24ms/step - loss: 8.4577e-04 - accuracy: 1.0000 - val_loss: 0.4233 - val_accuracy: 0.9264\n",
            "Epoch 39/50\n",
            "25/25 [==============================] - 1s 24ms/step - loss: 0.0011 - accuracy: 1.0000 - val_loss: 0.4317 - val_accuracy: 0.9264\n",
            "Epoch 40/50\n",
            "25/25 [==============================] - 1s 24ms/step - loss: 0.0056 - accuracy: 0.9974 - val_loss: 0.4089 - val_accuracy: 0.9264\n",
            "Epoch 41/50\n",
            "25/25 [==============================] - 1s 24ms/step - loss: 0.0014 - accuracy: 1.0000 - val_loss: 0.4388 - val_accuracy: 0.9225\n",
            "Epoch 42/50\n",
            "25/25 [==============================] - 1s 24ms/step - loss: 0.0010 - accuracy: 1.0000 - val_loss: 0.4385 - val_accuracy: 0.9186\n",
            "Epoch 43/50\n",
            "25/25 [==============================] - 1s 24ms/step - loss: 7.2502e-04 - accuracy: 1.0000 - val_loss: 0.4458 - val_accuracy: 0.9225\n",
            "Epoch 44/50\n",
            "25/25 [==============================] - 1s 24ms/step - loss: 8.7992e-04 - accuracy: 1.0000 - val_loss: 0.4728 - val_accuracy: 0.9264\n",
            "Epoch 45/50\n",
            "25/25 [==============================] - 1s 24ms/step - loss: 5.4857e-04 - accuracy: 1.0000 - val_loss: 0.4618 - val_accuracy: 0.9225\n",
            "Epoch 46/50\n",
            "25/25 [==============================] - 1s 24ms/step - loss: 2.6487e-04 - accuracy: 1.0000 - val_loss: 0.4764 - val_accuracy: 0.9264\n",
            "Epoch 47/50\n",
            "25/25 [==============================] - 1s 24ms/step - loss: 3.5632e-04 - accuracy: 1.0000 - val_loss: 0.4848 - val_accuracy: 0.9264\n",
            "Epoch 48/50\n",
            "25/25 [==============================] - 1s 24ms/step - loss: 0.0010 - accuracy: 1.0000 - val_loss: 0.5075 - val_accuracy: 0.9264\n",
            "Epoch 49/50\n",
            "25/25 [==============================] - 1s 25ms/step - loss: 0.0029 - accuracy: 0.9987 - val_loss: 0.5829 - val_accuracy: 0.9070\n",
            "Epoch 50/50\n",
            "25/25 [==============================] - 1s 24ms/step - loss: 0.0107 - accuracy: 0.9974 - val_loss: 0.4228 - val_accuracy: 0.9225\n"
          ],
          "name": "stdout"
        }
      ]
    },
    {
      "cell_type": "markdown",
      "metadata": {
        "id": "_Uy6Soh1gKPQ",
        "colab_type": "text"
      },
      "source": [
        "**Plot the training loss and accuracy**"
      ]
    },
    {
      "cell_type": "code",
      "metadata": {
        "id": "49WZibv8gNna",
        "colab_type": "code",
        "colab": {
          "base_uri": "https://localhost:8080/",
          "height": 541
        },
        "outputId": "fe0f8a95-57b7-4cf3-932d-210d6c7b3481"
      },
      "source": [
        "import matplotlib.pyplot as plt\n",
        "plt.plot(fitted_model.history['loss'],'r',label = \"Training  Loss\")\n",
        "plt.plot(fitted_model.history['val_loss'],label = \"Validation Loss\")\n",
        "plt.xlabel(\"# of Epochs\")\n",
        "plt.ylabel(\"Loss Value\")\n",
        "plt.legend()\n",
        "plt.show()\n",
        "\n",
        "#Plotting Accuracy\n",
        "plt.plot(fitted_model.history['accuracy'],'r',label = \"Training Accuracy\")\n",
        "plt.plot(fitted_model.history['val_accuracy'],label = \"Validation Accuracy\")\n",
        "plt.xlabel(\"# of Epochs\")\n",
        "plt.ylabel(\"Accuracy Value\")\n",
        "plt.legend()\n",
        "plt.show()\n"
      ],
      "execution_count": null,
      "outputs": [
        {
          "output_type": "display_data",
          "data": {
            "image/png": "[encoded data removed]",
            "text/plain": [
              "<Figure size 432x288 with 1 Axes>"
            ]
          },
          "metadata": {
            "tags": [],
            "needs_background": "light"
          }
        },
        {
          "output_type": "display_data",
          "data": {
            "image/png": "[encoded data removed]",
            "text/plain": [
              "<Figure size 432x288 with 1 Axes>"
            ]
          },
          "metadata": {
            "tags": [],
            "needs_background": "light"
          }
        }
      ]
    },
    {
      "cell_type": "markdown",
      "metadata": {
        "id": "hdmar_x3g5T_",
        "colab_type": "text"
      },
      "source": [
        "**Saving the Model**\n"
      ]
    },
    {
      "cell_type": "code",
      "metadata": {
        "id": "f2MMBo4dg8iM",
        "colab_type": "code",
        "colab": {}
      },
      "source": [
        "model.save(\"Face_Mask_Model.h5\")"
      ],
      "execution_count": null,
      "outputs": []
    },
    {
      "cell_type": "code",
      "metadata": {
        "id": "koy2Qh0vo4j0",
        "colab_type": "code",
        "colab": {}
      },
      "source": [
        ""
      ],
      "execution_count": null,
      "outputs": []
    }
  ]
}